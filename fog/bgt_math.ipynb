{
 "cells": [
  {
   "cell_type": "code",
   "execution_count": null,
   "metadata": {
    "collapsed": false
   },
   "outputs": [],
   "source": [
    "import sympy\n",
    "\n",
    "from sympy import symbols, simplify, pprint, init_printing, factor, numer, denom\n",
    "init_printing()\n",
    "\n",
    "# Set up the variables\n",
    "[a, b, c, d, e] = symbols('a b c d e')\n",
    "[beta_1, delta_1]  = symbols('beta_1 delta_1')\n",
    "[sigma_I, sigma_nu] = symbols('sigma_I sigma_nu')\n",
    "[phi_1, phi_2] = symbols('varphi_1 varphi_2')\n",
    "[sigma_O, sigma_epsilon] = symbols('sigma_O sigma_epsilon')\n",
    "\n",
    "# The regression coefficient from fog_mgr on fog_analyst\n",
    "beta_1 = phi_1 * delta_1 * sigma_I**2 / (\n",
    "             delta_1**2 * sigma_I**2 + sigma_nu**2)\n",
    "\n",
    "# The variance-covariance terms.\n",
    "# I calculated these all independently and got the same as Dan\n",
    "a = beta_1**2 * (delta_1**2 * sigma_I**2 + sigma_nu**2)\n",
    "b = sigma_O**2 * phi_2**2 + (phi_1 - beta_1 * delta_1\n",
    "                            )**2 + sigma_epsilon**2 + beta_1**2 * sigma_nu**2\n",
    "c = beta_1 * delta_1 * (\n",
    "    phi_1 - beta_1 * delta_1) * sigma_I**2 - beta_1**2 * sigma_nu**2\n",
    "d = -beta_1 * delta_1 * sigma_I**2\n",
    "e = sigma_O**2 * phi_2 - sigma_I**2*(phi_1 - beta_1*delta_1)\n"
   ]
  },
  {
   "cell_type": "code",
   "execution_count": null,
   "metadata": {
    "collapsed": false
   },
   "outputs": [],
   "source": [
    "c = simplify(c)\n",
    "print(\"The value of c is %d\" % c)"
   ]
  },
  {
   "cell_type": "markdown",
   "metadata": {},
   "source": [
    "I get the same expression as Dan gets for $\\gamma_1$."
   ]
  },
  {
   "cell_type": "code",
   "execution_count": null,
   "metadata": {
    "collapsed": false,
    "scrolled": true
   },
   "outputs": [],
   "source": [
    "gamma_1 = (b*d - c*e)/(a*b - c**2)\n",
    "gamma_2 = (a*e - c*d)/(a*b - c**2)\n",
    "simplify(gamma_1)"
   ]
  },
  {
   "cell_type": "markdown",
   "metadata": {},
   "source": [
    "In the expressions for $\\gamma_2$, the denominator is positive and the first term of the numerator is positive.\n",
    "The second term of the numerator is the same as Dan got from Scientific Workplace. So the conditions on sign he discusses are correct."
   ]
  },
  {
   "cell_type": "code",
   "execution_count": null,
   "metadata": {
    "collapsed": false
   },
   "outputs": [],
   "source": [
    "res = simplify(gamma_2)\n",
    "res"
   ]
  },
  {
   "cell_type": "code",
   "execution_count": null,
   "metadata": {
    "collapsed": false
   },
   "outputs": [],
   "source": [
    "factor(numer(res))"
   ]
  },
  {
   "cell_type": "code",
   "execution_count": null,
   "metadata": {
    "collapsed": false
   },
   "outputs": [],
   "source": [
    "denom(res)"
   ]
  }
 ],
 "metadata": {
  "kernelspec": {
   "display_name": "Python 3",
   "language": "python",
   "name": "python3"
  },
  "language_info": {
   "codemirror_mode": {
    "name": "ipython",
    "version": 3
   },
   "file_extension": ".py",
   "mimetype": "text/x-python",
   "name": "python",
   "nbconvert_exporter": "python",
   "pygments_lexer": "ipython3",
   "version": "3.4.4"
  }
 },
 "nbformat": 4,
 "nbformat_minor": 0
}
